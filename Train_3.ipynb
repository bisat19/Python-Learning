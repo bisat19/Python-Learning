{
  "nbformat": 4,
  "nbformat_minor": 0,
  "metadata": {
    "colab": {
      "provenance": [],
      "authorship_tag": "ABX9TyObepW6SBjgy6ELYb9dNG0Z",
      "include_colab_link": true
    },
    "kernelspec": {
      "name": "python3",
      "display_name": "Python 3"
    },
    "language_info": {
      "name": "python"
    }
  },
  "cells": [
    {
      "cell_type": "markdown",
      "metadata": {
        "id": "view-in-github",
        "colab_type": "text"
      },
      "source": [
        "<a href=\"https://colab.research.google.com/github/bisat19/Python-Learning/blob/main/Train_3.ipynb\" target=\"_parent\"><img src=\"https://colab.research.google.com/assets/colab-badge.svg\" alt=\"Open In Colab\"/></a>"
      ]
    },
    {
      "cell_type": "markdown",
      "source": [
        "You probably know the \"like\" system from Facebook and other pages. People can \"like\" blog posts, pictures or other items. We want to create the text that should be displayed next to such an item.\n",
        "\n",
        "Implement the function which takes an array containing the names of people that like an item. It must return the display text as shown in the examples:\n",
        "```\n",
        "[]                                -->  \"no one likes this\"\n",
        "[\"Peter\"]                         -->  \"Peter likes this\"\n",
        "[\"Jacob\", \"Alex\"]                 -->  \"Jacob and Alex like this\"\n",
        "[\"Max\", \"John\", \"Mark\"]           -->  \"Max, John and Mark like this\"\n",
        "[\"Alex\", \"Jacob\", \"Mark\", \"Max\"]  -->  \"Alex, Jacob and 2 others like this\"\n",
        "```\n",
        "Note: For 4 or more names, the number in\n",
        "```\n",
        "\"and 2 others\"\n",
        " ```\n",
        "simply increases."
      ],
      "metadata": {
        "id": "sAqoNG-DNgMs"
      }
    },
    {
      "cell_type": "code",
      "execution_count": 20,
      "metadata": {
        "colab": {
          "base_uri": "https://localhost:8080/",
          "height": 35
        },
        "id": "EH_ZzM_zJznc",
        "outputId": "11c20e21-d723-4cf5-a0d3-bb8bf75eb5c7"
      },
      "outputs": [
        {
          "output_type": "execute_result",
          "data": {
            "text/plain": [
              "'Peter, Symon and 4 others like this'"
            ],
            "application/vnd.google.colaboratory.intrinsic+json": {
              "type": "string"
            }
          },
          "metadata": {},
          "execution_count": 20
        }
      ],
      "source": [
        "def likes(names):\n",
        "  if len(names) == 0:\n",
        "    return \"no one likes this\"\n",
        "  else:\n",
        "    if len(names) == 1:\n",
        "      return str(names[0]) + ' likes this'\n",
        "    if 2 <= len(names) <= 3:\n",
        "      return ', '.join(map(str,names[:-1])) + ' and ' + str(names[-1]) + ' like this'\n",
        "    else:\n",
        "      return str(names[0]) +', '+str(names[1])+' and '+str(len(names[2:])) + ' others like this'\n",
        "\n",
        "names = ['Peter', 'Symon', 'Jobihanka','Lulu','Sysyx', 'Mayapada']\n",
        "likes(names)"
      ]
    },
    {
      "cell_type": "markdown",
      "source": [
        "The maximum sum subarray problem consists in finding the maximum sum of a contiguous subsequence in an array or list of integers:\n",
        "```\n",
        "max_sequence([-2, 1, -3, 4, -1, 2, 1, -5, 4])\n",
        "# should be 6: [4, -1, 2, 1]\n",
        "```\n",
        "Easy case is when the list is made up of only positive numbers and the maximum sum is the sum of the whole array. If the list is made up of only negative numbers, return 0 instead.\n",
        "\n",
        "Empty list is considered to have zero greatest sum. Note that the empty list or array is also a valid sublist/subarray."
      ],
      "metadata": {
        "id": "-TnjRURnPJDf"
      }
    },
    {
      "cell_type": "code",
      "source": [
        "def max_sequence(arr):\n",
        "    if not arr:\n",
        "        return 0\n",
        "    max_ending_here = max_so_far = arr[0]\n",
        "    for num in arr[1:]:\n",
        "        max_ending_here = max(num, max_ending_here + num)\n",
        "        max_so_far = max(max_so_far, max_ending_here)\n",
        "    if max_so_far < 0:\n",
        "        max_so_far = 0\n",
        "    return max_so_far\n",
        "\n",
        "max_sequence([1,-9,2,8,8,10,0,-9,3,-5])"
      ],
      "metadata": {
        "colab": {
          "base_uri": "https://localhost:8080/"
        },
        "id": "gwHX1xdrLej2",
        "outputId": "29514504-7988-40f8-8ebc-15aed36d72df"
      },
      "execution_count": 21,
      "outputs": [
        {
          "output_type": "execute_result",
          "data": {
            "text/plain": [
              "28"
            ]
          },
          "metadata": {},
          "execution_count": 21
        }
      ]
    },
    {
      "cell_type": "markdown",
      "source": [
        "Implement the function unique_in_order which takes as argument a sequence and returns a list of items without any elements with the same value next to each other and preserving the original order of elements.\n",
        "\n",
        "For example:\n",
        "```\n",
        "unique_in_order('AAAABBBCCDAABBB') == ['A', 'B', 'C', 'D', 'A', 'B']\n",
        "unique_in_order('ABBCcAD')         == ['A', 'B', 'C', 'c', 'A', 'D']\n",
        "unique_in_order([1, 2, 2, 3, 3])   == [1, 2, 3]\n",
        "unique_in_order((1, 2, 2, 3, 3))   == [1, 2, 3]\n",
        "```"
      ],
      "metadata": {
        "id": "Qzo7vgEZT3NY"
      }
    },
    {
      "cell_type": "code",
      "source": [
        "def unique_in_order(arr):\n",
        "  l = []\n",
        "  r = []\n",
        "  temp = ''\n",
        "  if isinstance(arr, str):\n",
        "    l = list(arr)\n",
        "  else:\n",
        "    l = arr\n",
        "  for i in range(len(l)):\n",
        "    if l[i] != temp:\n",
        "      temp = l[i]\n",
        "      r.append(l[i])\n",
        "  return r\n",
        "\n",
        "unique_in_order([1, 2, 2, 3, 3])\n",
        "\n",
        "\n",
        "\n"
      ],
      "metadata": {
        "colab": {
          "base_uri": "https://localhost:8080/"
        },
        "id": "DWEtaTutPIoB",
        "outputId": "f998943c-b598-45f7-e896-b280837c9d8a"
      },
      "execution_count": 28,
      "outputs": [
        {
          "output_type": "execute_result",
          "data": {
            "text/plain": [
              "[1, 2, 3]"
            ]
          },
          "metadata": {},
          "execution_count": 28
        }
      ]
    },
    {
      "cell_type": "markdown",
      "source": [
        "ou are given an array(list) strarr of strings and an integer k. Your task is to return the first longest string consisting of k consecutive strings taken in the array.\n",
        "```\n",
        "Examples:\n",
        "strarr = [\"tree\", \"foling\", \"trashy\", \"blue\", \"abcdef\", \"uvwxyz\"], k = 2\n",
        "\n",
        "Concatenate the consecutive strings of strarr by 2, we get:\n",
        "\n",
        "treefoling   (length 10)  concatenation of strarr[0] and strarr[1]\n",
        "folingtrashy (\"      12)  concatenation of strarr[1] and strarr[2]\n",
        "trashyblue   (\"      10)  concatenation of strarr[2] and strarr[3]\n",
        "blueabcdef   (\"      10)  concatenation of strarr[3] and strarr[4]\n",
        "abcdefuvwxyz (\"      12)  concatenation of strarr[4] and strarr[5]\n",
        "```\n",
        "Two strings are the longest: \"folingtrashy\" and \"abcdefuvwxyz\".\n",
        "The first that came is \"folingtrashy\" so\n",
        "longest_consec(strarr, 2) should return \"folingtrashy\".\n",
        "```\n",
        "In the same way:\n",
        "longest_consec([\"zone\", \"abigail\", \"theta\", \"form\", \"libe\", \"zas\",\n",
        " \"theta\", \"abigail\"], 2) --> \"abigailtheta\"\n",
        "n being the length of the string array,\n",
        "if n = 0 or k > n or k <= 0 return \"\"\n",
        "(return Nothing in Elm, \"nothing\" in Erlang).\n",
        "```\n",
        "Note\n",
        "consecutive strings : follow one after another without an interruption"
      ],
      "metadata": {
        "id": "BNKOYpisZxdP"
      }
    },
    {
      "cell_type": "code",
      "source": [
        "def longest_consec(strarr, k):\n",
        "  l = []\n",
        "  if len(strarr) < k or k < 0:\n",
        "    return \"\"\n",
        "  else:\n",
        "    for i in range(len(strarr)-k+1):\n",
        "      l.append(''.join(strarr[i:i+k]))\n",
        "  #return l\n",
        "  return max(l, key=len)\n",
        "\n",
        "longest_consec([\"it\",\"wkppv\",\"ixoyx\", \"3452\", \"zzzzzzzzzzzz\"], 3)"
      ],
      "metadata": {
        "colab": {
          "base_uri": "https://localhost:8080/",
          "height": 35
        },
        "id": "MiSirkPTPzWm",
        "outputId": "7d47eaeb-6040-4daf-b691-c35d31cadf96"
      },
      "execution_count": 38,
      "outputs": [
        {
          "output_type": "execute_result",
          "data": {
            "text/plain": [
              "'ixoyx3452zzzzzzzzzzzz'"
            ],
            "application/vnd.google.colaboratory.intrinsic+json": {
              "type": "string"
            }
          },
          "metadata": {},
          "execution_count": 38
        }
      ]
    },
    {
      "cell_type": "code",
      "source": [
        "max(['ADADADS','KJADU','IUYTASYAF'],key=len)"
      ],
      "metadata": {
        "colab": {
          "base_uri": "https://localhost:8080/",
          "height": 35
        },
        "id": "_chqcVlfWjBb",
        "outputId": "b008be40-6b4f-4258-b54f-53882927fe15"
      },
      "execution_count": 30,
      "outputs": [
        {
          "output_type": "execute_result",
          "data": {
            "text/plain": [
              "'IUYTASYAF'"
            ],
            "application/vnd.google.colaboratory.intrinsic+json": {
              "type": "string"
            }
          },
          "metadata": {},
          "execution_count": 30
        }
      ]
    },
    {
      "cell_type": "code",
      "source": [
        "def generate_ranges(lst):\n",
        "    ranges = []\n",
        "    start = lst[0]\n",
        "    end = lst[0]\n",
        "    for i in range(1, len(lst)):\n",
        "        if lst[i] == end + 1:\n",
        "            end = lst[i]\n",
        "        else:\n",
        "            if start == end:\n",
        "                ranges.append(str(start))\n",
        "            else:\n",
        "                ranges.append(str(start) + '-' + str(end))\n",
        "            start = end = lst[i]\n",
        "    if start == end:\n",
        "        ranges.append(str(start))\n",
        "    else:\n",
        "        ranges.append(str(start) + '-' + str(end))\n",
        "\n",
        "    return ','.join(ranges)\n",
        "\n",
        "input_list = [1, 2, 3, 4, 5, 9, 10, 11]\n",
        "output = generate_ranges(input_list)\n",
        "print(output)  # Output: [1-5,9-11]\n"
      ],
      "metadata": {
        "colab": {
          "base_uri": "https://localhost:8080/"
        },
        "id": "1bqRn58tWnQA",
        "outputId": "77d55b86-1985-478c-ca1d-7d8274a7c5f2"
      },
      "execution_count": 39,
      "outputs": [
        {
          "output_type": "stream",
          "name": "stdout",
          "text": [
            "1-5,9-11\n"
          ]
        }
      ]
    },
    {
      "cell_type": "code",
      "source": [],
      "metadata": {
        "id": "pvs3RIRgc1QQ"
      },
      "execution_count": null,
      "outputs": []
    }
  ]
}