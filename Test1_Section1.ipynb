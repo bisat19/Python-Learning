{
  "nbformat": 4,
  "nbformat_minor": 0,
  "metadata": {
    "colab": {
      "provenance": [],
      "authorship_tag": "ABX9TyOLUN69DvGFzlK22xLSzYzA",
      "include_colab_link": true
    },
    "kernelspec": {
      "name": "python3",
      "display_name": "Python 3"
    },
    "language_info": {
      "name": "python"
    }
  },
  "cells": [
    {
      "cell_type": "markdown",
      "metadata": {
        "id": "view-in-github",
        "colab_type": "text"
      },
      "source": [
        "<a href=\"https://colab.research.google.com/github/bisat19/Python-Learning/blob/main/Test1_Section1.ipynb\" target=\"_parent\"><img src=\"https://colab.research.google.com/assets/colab-badge.svg\" alt=\"Open In Colab\"/></a>"
      ]
    },
    {
      "cell_type": "markdown",
      "source": [
        "Di sebuah desa kecil, hiduplah seorang guru matematika yang terkenal akan keahliannya dalam mengajarkan konsep-konsep matematika yang rumit dengan cara yang sangat menarik dan mudah dipahami. Guru itu dikenal dengan sebutan Guru Pythagoras. Suatu hari, dia memberikan tantangan kepada murid-muridnya yang paling cerdas.\n",
        "\n",
        "Tantangan itu adalah \"Misteri Bilangan Sempurna\". Guru Pythagoras meminta para muridnya untuk menemukan sebuah bilangan yang faktor-faktornya, ketika dijumlahkan, hasilnya sama dengan bilangan itu sendiri. Tantangan ini bertujuan untuk menguji pemahaman mereka tentang konsep faktor bilangan dan memperdalam pengetahuan mereka tentang bilangan sempurna.\n",
        "\n",
        "Untuk memecahkan misteri ini, murid-murid harus menemukan cara untuk mengidentifikasi semua faktor dari suatu bilangan, lalu menjumlahkannya. Seorang murid yang sangat berbakat, bernama Archimedes, datang dengan sebuah ide. Dia mengusulkan untuk menggunakan sebuah program yang bisa secara otomatis mencari dan menampilkan semua faktor dari bilangan yang diberikan.\n",
        "\n",
        "Tugas anda bantulah archimedes membuat program untuk secara otomatis mencari dan menampilkan semua faktor dari bilangan yang diberikan.\n",
        "\n",
        "Input Format\n",
        "\n",
        "Bilangan yang akan ditampilkan faktornya\n",
        "\n",
        "Constraints\n",
        "\n",
        "-\n",
        "\n",
        "Output Format\n",
        "\n",
        "Array yang berisi faktor dari bilangan yang diberikan\n",
        "\n",
        "Sample Input 0\n",
        "\n",
        "100\n",
        "\n",
        "Sample Output 0\n",
        "\n",
        "[1, 2, 4, 5, 10, 20, 25, 50, 100]"
      ],
      "metadata": {
        "id": "Ht94OxYVCPUW"
      }
    },
    {
      "cell_type": "code",
      "execution_count": null,
      "metadata": {
        "id": "9Jw1T1_YCLw6"
      },
      "outputs": [],
      "source": [
        "def faktorBilangan(bil):\n",
        "    faktor =[]\n",
        "    for i in range(1,bil+1):\n",
        "        if bil%i == 0:\n",
        "            faktor.append(i)\n",
        "    return faktor\n",
        "\n",
        "n = int(input())\n",
        "print(faktorBilangan(n))"
      ]
    },
    {
      "cell_type": "markdown",
      "source": [
        "Fikk Bazz adalah seorang mahasiswa di Universitas Diponegoro yang sangat suka dengan matematika. Suatu hari, dia memutuskan untuk membuat permainan matematika bernama \"Fikk Bazz\" untuk menghibur teman-temannya di kampus.\n",
        "\n",
        "Dia membuat aturan permainan sebagai berikut:\n",
        "\n",
        "Jika suatu angka habis dibagi oleh 3 dan 5, maka akan disebut \"Fikk Bazz\". Jika suatu angka habis dibagi oleh 3, maka akan disebut \"Fikk\". Jika suatu angka habis dibagi oleh 5, maka akan disebut \"Bazz\". Jika suatu angka tidak memenuhi ketiga kondisi di atas, maka akan disebut dengan angka itu sendiri. Fikk Bazz pun menjadi populer di kampus, dan Fikk Bazz bangga bisa menciptakan permainan yang menyenangkan untuk teman-temannya.\n",
        "\n",
        "Input Format\n",
        "\n",
        "satu buah bilangan integer\n",
        "\n",
        "Constraints\n",
        "\n",
        "-\n",
        "\n",
        "Output Format\n",
        "\n",
        "array\n",
        "\n",
        "Sample Input 0\n",
        "\n",
        "3\n",
        "\n",
        "Sample Output 0\n",
        "\n",
        "1\n",
        "\n",
        "2\n",
        "\n",
        "Fikk\n",
        "\n",
        "Sample Input 1\n",
        "\n",
        "15\n",
        "\n",
        "Sample Output 1\n",
        "\n",
        "1\n",
        "\n",
        "2\n",
        "\n",
        "Fikk\n",
        "\n",
        "4\n",
        "\n",
        "Bazz\n",
        "\n",
        "Fikk\n",
        "\n",
        "7\n",
        "\n",
        "8\n",
        "\n",
        "Fikk\n",
        "\n",
        "Bazz\n",
        "\n",
        "11\n",
        "\n",
        "Fikk\n",
        "\n",
        "13\n",
        "\n",
        "14\n",
        "\n",
        "FikkBazz"
      ],
      "metadata": {
        "id": "cJY0qhScChr_"
      }
    },
    {
      "cell_type": "code",
      "source": [
        "a = int(input())\n",
        "def fikkBazz(n):\n",
        "  hasil = []\n",
        "  for i in range (1, n+1):\n",
        "    if (i%3 == 0 and i%5 == 0):\n",
        "      hasil.append(\"FikkBazz\")\n",
        "    elif (i%3 == 0):\n",
        "      hasil.append(\"Fikk\")\n",
        "    elif (i%5 == 0):\n",
        "      hasil.append(\"Bazz\")\n",
        "    else:\n",
        "      hasil.append(str(i))\n",
        "  return hasil\n",
        "\n",
        "out = fikkBazz(a)\n",
        "for item in out:\n",
        "    print(item)"
      ],
      "metadata": {
        "id": "YqrNZ-UDC8zy"
      },
      "execution_count": null,
      "outputs": []
    },
    {
      "cell_type": "markdown",
      "source": [
        "Suatu hari, Sang Fibonacci mengumpulkan anak-anak desa di bawah pohon yang rindang. Dia ingin mengajarkan mereka tentang keindahan alam dan bagaimana alam seringkali mengikuti pola dan urutan yang dapat diprediksi. Untuk ini, dia memperkenalkan mereka pada konsep \"Deret Fibonacci\", sebuah urutan angka di mana dua angka pertama adalah 0 dan 1, dan setiap angka berikutnya adalah penjumlahan dari dua angka sebelumnya.\n",
        "\n",
        "Sang Fibonacci menjelaskan bahwa deret ini tidak hanya sebuah urutan angka, tapi juga muncul di berbagai aspek alam, seperti pada susunan kelopak bunga, pola pertumbuhan daun, dan bahkan dalam susunan spiral galaksi.\n",
        "\n",
        "Untuk membawa pelajaran ini ke dalam praktik, Sang Fibonacci memberikan tantangan kepada anak-anak desa. Tantangan tersebut adalah untuk menciptakan sebuah alat yang dapat menghasilkan urutan Fibonacci sampai ke angka ke-n yang mereka inginkan.\n",
        "\n",
        "Input Format\n",
        "\n",
        "n = integer\n",
        "\n",
        "Constraints\n",
        "\n",
        "-\n",
        "\n",
        "Output Format\n",
        "\n",
        "Array of urutan Fibonacci\n",
        "\n",
        "Sample Input 0\n",
        "\n",
        "10\n",
        "\n",
        "Sample Output 0\n",
        "\n",
        "[0, 1, 1, 2, 3, 5, 8, 13, 21, 34]\n",
        "\n"
      ],
      "metadata": {
        "id": "vuNL6nutDO3Q"
      }
    },
    {
      "cell_type": "code",
      "source": [
        "def tantanganFibonaci(n):\n",
        "  fib = [0,1]\n",
        "  for i in range (2,n):\n",
        "    fib.append(fib[i-1]+fib[i-2])\n",
        "  return fib[:n]\n",
        "\n",
        "angka = int(input())\n",
        "print(tantanganFibonaci(angka))"
      ],
      "metadata": {
        "id": "ipWZW2RwDXlL"
      },
      "execution_count": null,
      "outputs": []
    },
    {
      "cell_type": "markdown",
      "source": [
        "Sebagai seorang programmer yang juga penggemar teka-teki matematika, Anda menemukan sebuah tantangan online. Tantangan ini mengajak Anda untuk menulis sebuah fungsi yang dapat menentukan apakah suatu bilangan merupakan bilangan prima atau bukan. Bilangan prima adalah bilangan yang lebih besar dari 1 dan hanya dapat dibagi habis oleh 1 dan dirinya sendiri.\n",
        "\n",
        "Anda menyadari bahwa ini adalah kesempatan yang baik untuk menguji kemampuan pemrograman Anda dan sekaligus menyegarkan pengetahuan matematika Anda. Untuk memecahkan masalah ini, Anda memutuskan untuk menggunakan sebuah fungsi sederhana yang telah Anda pelajari sebelumnya.\n",
        "\n",
        "Fungsi tersebut bekerja dengan memeriksa setiap bilangan dari 2 hingga akar kuadrat dari bilangan yang diberikan. Jika fungsi menemukan bahwa bilangan tersebut dapat dibagi habis oleh bilangan lain selain 1 dan dirinya sendiri, maka bilangan tersebut bukanlah bilangan prima. Jika tidak, maka itu adalah bilangan prima.\n",
        "\n",
        "Input Format\n",
        "\n",
        "Integer\n",
        "\n",
        "Constraints\n",
        "\n",
        "-\n",
        "\n",
        "Output Format\n",
        "\n",
        "Apabila prima, mengeluarkan \"Prima\" Apabila tidak prima, mengeluarkan \"Bukan Prima\"\n",
        "\n",
        "Sample Input 0\n",
        "\n",
        "5\n",
        "\n",
        "Sample Output 0\n",
        "\n",
        "Prima"
      ],
      "metadata": {
        "id": "GG0NXkIZDgb-"
      }
    },
    {
      "cell_type": "code",
      "source": [
        "angka = int(input())\n",
        "\n",
        "def isPrima(n):\n",
        "  uji = 1\n",
        "  if n <=1:\n",
        "    uji = 0\n",
        "  else:\n",
        "    for i in range(2,int(n**1/2)+1):\n",
        "      if n % i == 0:\n",
        "        uji = 0\n",
        "  return uji\n",
        "\n",
        "def stringPrima(a):\n",
        "  if isPrima(a) == 0:\n",
        "    return \"Bukan Prima\"\n",
        "  else:\n",
        "    return \"Prima\"\n",
        "\n",
        "print(stringPrima(angka))"
      ],
      "metadata": {
        "id": "wT4BjOiLDrlR"
      },
      "execution_count": null,
      "outputs": []
    },
    {
      "cell_type": "markdown",
      "source": [
        "Dalam sebuah kelas matematika, guru memberikan tantangan kepada murid-muridnya untuk menghitung jumlah total semua bilangan ganjil dari 1 hingga n, di mana n adalah bilangan bulat positif yang diberikan oleh guru. Guru tersebut ingin menggunakan pendekatan yang lebih interaktif dan teknologi dalam pelajarannya, sehingga memutuskan untuk menggunakan sebuah program komputer yang dapat melakukan perhitungan tersebut secara otomatis.\n",
        "\n",
        "Untuk memenuhi kebutuhan tersebut, Anda diminta untuk membuat sebuah program yang dapat menerima input berupa sebuah bilangan bulat positif n, dan kemudian menghitung serta menampilkan jumlah total dari semua bilangan ganjil yang dimulai dari 1 hingga n. Program yang Anda buat harus efisien dan mudah digunakan oleh guru maupun murid-muridnya dalam proses belajar mengajar.\n",
        "\n",
        "Input Format\n",
        "\n",
        "n = integer\n",
        "\n",
        "Constraints\n",
        "\n",
        "-\n",
        "\n",
        "Output Format\n",
        "\n",
        "Jumlah total dari semua bilangan ganjil yang dimulai dari 1 hingga n\n",
        "\n",
        "Sample Input 0\n",
        "\n",
        "3\n",
        "\n",
        "Sample Output 0\n",
        "\n",
        "4\n",
        "\n",
        "Explanation 0\n",
        "\n",
        "1...3 maka (1 + 3) = 4"
      ],
      "metadata": {
        "id": "l6_nVJY7Dwrc"
      }
    },
    {
      "cell_type": "code",
      "source": [
        "uji = int(input())\n",
        "\n",
        "def totalBilGanjil(n):\n",
        "    sum = 0\n",
        "    for i in range(n+1):\n",
        "        if not(i%2 == 0):\n",
        "            sum = sum+i\n",
        "    return sum\n",
        "\n",
        "print(totalBilGanjil(uji))"
      ],
      "metadata": {
        "id": "meO7DLtHD8iW"
      },
      "execution_count": null,
      "outputs": []
    },
    {
      "cell_type": "markdown",
      "source": [
        "Dalam sebuah sesi kreativitas coding, Anda memperkenalkan sebuah tantangan kepada siswa Anda: \"Membuat Langit Berbintang Terbalik\". Setiap siswa diminta untuk mengimajinasikan bahwa mereka sedang memandang langit berbintang pada malam yang gelap. Namun, ada keunikan pada langit ini; jumlah bintang berkurang setiap kali mata mereka bergerak ke bawah langit, menciptakan efek visual yang menarik.\n",
        "\n",
        "Untuk menyelesaikan tantangan ini, siswa harus menggunakan sebuah fungsi dalam pemrograman yang mengambil satu parameter: jumlah bintang pada baris pertama. Kemudian, fungsi tersebut akan mencetak serangkaian baris dengan bintang, dimulai dari jumlah yang ditentukan dan berkurang satu bintang di setiap baris berikutnya hingga tidak ada bintang yang tersisa.\n",
        "\n",
        "Berikut adalah deskripsi tugas yang diberikan kepada siswa:\n",
        "\n",
        "Fungsi yang Anda buat harus menerima satu input, yaitu n, yang merupakan jumlah bintang pada baris pertama. Gunakan konsep iterasi untuk mencetak pola bintang terbalik. Dimulai dengan n bintang pada baris pertama, dan kurangi satu bintang di setiap baris berikutnya hingga Anda mencapai baris dengan satu bintang. Tujuan Anda adalah untuk menciptakan pola visual yang menyerupai langit berbintang yang keindahannya berkurang perlahan, memberi efek terbalik.\n",
        "\n",
        "Input Format\n",
        "\n",
        "n = integer\n",
        "\n",
        "Constraints\n",
        "\n",
        "-\n",
        "\n",
        "Output Format\n",
        "\n",
        "Kumpulan string yang membentuk pola visual langit berbintang\n",
        "\n",
        "Sample Input 0\n",
        "\n",
        "5\n",
        "\n",
        "Sample Output 0\n",
        "\n",
        "![image.png](data:image/png;base64,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)"
      ],
      "metadata": {
        "id": "lBDCyDA-EC3Z"
      }
    },
    {
      "cell_type": "code",
      "source": [
        "n = int(input())\n",
        "def bintangTerbalik(n):\n",
        "  for i in range(n,0,-1):\n",
        "    print('*'*i)\n",
        "bintangTerbalik(n)"
      ],
      "metadata": {
        "id": "sweTP5l1EkNr"
      },
      "execution_count": null,
      "outputs": []
    },
    {
      "cell_type": "markdown",
      "source": [
        "Bhaska mendapatkan tugas dari gurunya, yaitu menghitung jumlah huruf vocal (a,i,u,e,o) yang terdapat pada sebuah kalimat, tetapi yang menjadi masalah adalah kalimat yang diberikan oleh gurunya berisi tulisan yang tidak dapat dimengerti\n",
        "\n",
        "Kalimatnya: andaiandaiandaiandaiandai\n",
        "\n",
        "setelah Ana bertanya pada temannya ternyata kalimat tersebut berisi sebuah kata yang sama yang diulangin sampai kalimatnya selesai.\n",
        "\n",
        "bantulah Ana menyelesaikan tugasnya!\n",
        "\n",
        "Input Format\n",
        "\n",
        "string (kata yang akan diulang) dan n sebagai panjang kalimat dari kata yang akan diulang\n",
        "\n",
        "Constraints\n",
        "\n",
        "-\n",
        "\n",
        "Output Format\n",
        "\n",
        "jumlah huruf vocal\n",
        "\n",
        "Sample Input 0\n",
        "\n",
        "yanto\n",
        "10\n",
        "\n",
        "Sample Output 0\n",
        "\n",
        "4\n"
      ],
      "metadata": {
        "id": "3Q4OojstEprn"
      }
    },
    {
      "cell_type": "code",
      "source": [
        "def hitungVocal(word, n):\n",
        "    vokal = \"aeiouAIUEO\"\n",
        "    kataterulang = word * n\n",
        "    vokal_count = 0\n",
        "    for char in kataterulang:\n",
        "        if char.lower() in vokal:\n",
        "            vokal_count += 1\n",
        "    return vokal_count\n",
        "\n",
        "def main():\n",
        "  word = input().strip()\n",
        "  n = int(int(input())/len(word))\n",
        "  print(hitungVocal(word, n))\n",
        "\n",
        "if __name__ == \"__main__\":\n",
        "    main()\n"
      ],
      "metadata": {
        "id": "ODmSh1ieE0B-"
      },
      "execution_count": null,
      "outputs": []
    },
    {
      "cell_type": "markdown",
      "source": [
        "Axel sedang menyelesaikan sebuah teka-teki dimana teka-teki tersebut mengharuskan menghitung banyaknya bilangan GENAP dari susunan angka yang diberikan dimana jumlah angkanya sudah ditentukan, bantulah Oni untuk menyelesaikan teka-tekinya!\n",
        "\n",
        "Input Format\n",
        "\n",
        "jumlah bilangan (integer) kumpulan bilangan (array)\n",
        "\n",
        "Constraints\n",
        "\n",
        "-\n",
        "\n",
        "Output Format\n",
        "\n",
        "jumlah bilangan genap (integer)\n",
        "\n",
        "Sample Input 0\n",
        "\n",
        "5\n",
        "1 2 3 4 5\n",
        "\n",
        "Sample Output 0\n",
        "\n",
        "2"
      ],
      "metadata": {
        "id": "D92eeCIsE4yF"
      }
    },
    {
      "cell_type": "code",
      "source": [
        "n = int(input())\n",
        "uji = list(map(int,input().split()))\n",
        "def hitungGenap(n, uji):\n",
        "  jumlah = 0\n",
        "  for i in uji:\n",
        "    if i%2 == 0:\n",
        "      jumlah +=1\n",
        "  return jumlah\n",
        "\n",
        "print(hitungGenap(n,uji))"
      ],
      "metadata": {
        "id": "vddznUdAE388"
      },
      "execution_count": null,
      "outputs": []
    },
    {
      "cell_type": "markdown",
      "source": [
        "Ihsan sedang mencari password baru untuk akun gamenya tapi ihsan hanya ingin passwordnya terdiri dari dua huruf yaitu a dan b, tetapi andi tidak ingin passwordnya terdapat huruf b yang double (\"bb\", \"abba\", \"abb\", ...) dan panjang dari passwordnya akan ditentukan sendiri, bantulah Ihsan untuk mencari kombinasi password yang memungkinkan!\n",
        "\n",
        "Input Format\n",
        "\n",
        "banyaknya character (integer)\n",
        "\n",
        "Constraints\n",
        "\n",
        "tidak boleh ada huruf b yang double (\"bb\", \"abba\", \"abb\", ...)\n",
        "\n",
        "Output Format\n",
        "\n",
        "kombinasi password berupa array\n",
        "\n",
        "Sample Input 0\n",
        "\n",
        "2\n",
        "\n",
        "Sample Output 0\n",
        "\n",
        "aa\n",
        "ab\n",
        "ba\n"
      ],
      "metadata": {
        "id": "8GXww-jlHB0F"
      }
    },
    {
      "cell_type": "code",
      "source": [
        "from itertools import product\n",
        "\n",
        "def generate_password(banyaknya_character):\n",
        "    characters = ['a', 'b']\n",
        "    password_combinations = []\n",
        "    for combination in product(characters, repeat=banyaknya_character):\n",
        "        password = ''.join(combination)\n",
        "        if 'bb' not in password:\n",
        "            password_combinations.append(password)\n",
        "    return password_combinations\n",
        "\n",
        "\n",
        "banyaknya_character = int(input())\n",
        "passwords = generate_password(banyaknya_character)\n",
        "for password in passwords:\n",
        "    print(password)"
      ],
      "metadata": {
        "id": "3PDpct9rHIn2"
      },
      "execution_count": null,
      "outputs": []
    },
    {
      "cell_type": "markdown",
      "source": [
        "Desa Sukamaju sedang mengalami cuaca buruk sehingga petani gagal panen. Untuk membantu petani, Pak Kepala Desa akan membagikan sembako kepada para petani yang ada di desa. Hanya saja, Pak Kepala Desa mengalami permasalahan dalam antrian sembako yang sedang dibagi. Warga Desa Sukamaju mendapatkan sembako dengan kupon bernomor acak. Antrian yang ada kemudian memanjang dengan masing-masing warga yang berada pada antrian. Pak Kepala Desa ingin mengetahui apakah dua nomor kupon yang ada pada antrian merupakan dua nomor yang saling berurutan. Untuk menyelesaikan permasalahan tersebut, buatlah sebuah program yang menerima masukan deret bilangan acak serta periksa apakah dua bilangan masukan berada di posisi yang saling berurutan di dalam deret bilangan. Program harus mengeluarkan string 'Ya' jika biilangan saling berurutan serta string 'Tidak' jika bilangan tidak saling berurutan.\n",
        "\n",
        "Input Format\n",
        "\n",
        "Deret bilangan acak\n",
        "\n",
        "Constraints\n",
        "\n",
        "-\n",
        "\n",
        "Output Format\n",
        "\n",
        "Jika dua bilangan masukan berada di posisi yang saling berurutan di dalam deret bilangan, mengeluarkan \"Ya\" Jika tidak, mengeluarkan \"Tidak\"\n",
        "\n",
        "Sample Input 0\n",
        "\n",
        "1 3 5 7\n",
        "\n",
        "3 5\n",
        "\n",
        "Sample Output 0\n",
        "\n",
        "Ya\n"
      ],
      "metadata": {
        "id": "Kq8QftBiHNPo"
      }
    },
    {
      "cell_type": "code",
      "source": [
        "def cekUrutan(deret,n1,n2):\n",
        "  index_n1 = deret.index(n1)\n",
        "  index_n2 = deret.index(n2)\n",
        "\n",
        "  if abs(index_n1 - index_n2) == 1:\n",
        "    return 'Ya'\n",
        "  else:\n",
        "    return 'Tidak'\n",
        "\n",
        "antre = list(map(int,input().split()))\n",
        "n1,n2 = map(int,input().split())\n",
        "print(cekUrutan(antre,n1,n2))"
      ],
      "metadata": {
        "id": "-QUPVrVuHVgR"
      },
      "execution_count": null,
      "outputs": []
    }
  ]
}