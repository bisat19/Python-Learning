{
  "nbformat": 4,
  "nbformat_minor": 0,
  "metadata": {
    "colab": {
      "provenance": [],
      "authorship_tag": "ABX9TyMtlfFWMHErzWPEoOus08mL",
      "include_colab_link": true
    },
    "kernelspec": {
      "name": "python3",
      "display_name": "Python 3"
    },
    "language_info": {
      "name": "python"
    }
  },
  "cells": [
    {
      "cell_type": "markdown",
      "metadata": {
        "id": "view-in-github",
        "colab_type": "text"
      },
      "source": [
        "<a href=\"https://colab.research.google.com/github/bisat19/Python-Learning/blob/main/Week4.ipynb\" target=\"_parent\"><img src=\"https://colab.research.google.com/assets/colab-badge.svg\" alt=\"Open In Colab\"/></a>"
      ]
    },
    {
      "cell_type": "markdown",
      "source": [
        "Tuk Dalang memiliki rak obat yang terdiri dari 9 laci dan terdapat satu obat di masing-masing laci. Ketika malam hari Tuk Dalang ingin mengkonsumsi obat yang berada pada urutan laci obat ke 8. Namun Melly si kucing oren Tuk Dalang berlarian diatas meja dan membuat semua laci obat jatuh berceceran. Laci obat tersebut mulanya tersusun urut dari atas ke bawah dimulai dari abjad obat terkecil. Bantu Tuk Dalang untuk mengurutkan kembali laci obat yang tercecer dan mengambil obat yang tepat pada laci bernomor 8, menggunakan algoritma Sorting dengan ketentuan sebagai berikut:\n",
        "\n",
        "\n",
        "laci_obat_tercecer = ['VitPlus', 'Cucubima', 'Paracetamol', 'Amoxilin', 'Redoxon', 'Tolak Angin', 'Gliserol', 'Dulcolax', 'Ibuprofen']\n",
        "\n",
        "\n",
        "output program yaitu nama obat yang harus dikonsumsi Tuk Dalang\n"
      ],
      "metadata": {
        "id": "-SzNb4oPksIZ"
      }
    },
    {
      "cell_type": "code",
      "execution_count": 8,
      "metadata": {
        "colab": {
          "base_uri": "https://localhost:8080/"
        },
        "id": "LUTrv_qzkrrM",
        "outputId": "05e8e31c-d1b7-4f51-bad8-25b8c4d8e953"
      },
      "outputs": [
        {
          "output_type": "stream",
          "name": "stdout",
          "text": [
            "Obat yang harus dikonsumsi Tuk Dalang: Tolak Angin\n"
          ]
        }
      ],
      "source": [
        "def quicksorted(arr):\n",
        "  if len(arr) <=1 :\n",
        "    return arr\n",
        "  p = arr[len(arr)//2]\n",
        "  kiri = [x for x in arr if x < p]\n",
        "  mid = [x for x in arr if x == p]\n",
        "  kanan = [x for x in arr if x > p]\n",
        "  return quicksorted(kiri) + mid + quicksorted(kanan)\n",
        "\n",
        "obattercecer = ['VitPlus', 'Cucubima', 'Paracetamol', 'Amoxilin', 'Redoxon', 'Tolak Angin', 'Gliserol', 'Dulcolax', 'Ibuprofen']\n",
        "rapi = quicksorted(obattercecer)\n",
        "obatTukDalang = rapi[7]\n",
        "print(\"Obat yang harus dikonsumsi Tuk Dalang: \" + obatTukDalang)"
      ]
    },
    {
      "cell_type": "markdown",
      "source": [
        "Seorang ibu ingin membeli sebuah product X, tetapi toko tersebut memiliki banyak rak baris produk lain, bantulah ibu tersebut dengan membuat program Searching, dengan ketentuan sebagai berikut\n",
        "rak_produk = ['susu moli', 'minyak bumoli', 'coco tok abah', 'mie goreng enak', 'minyak bumoli', 'mi rebus enak', 'coco tok abah', 'susu ibu sehat', 'susu moli', 'mie goreng enak']\n",
        "\n",
        "* jika ibu tersebut mencari produk “susu ibu sehat”,\n",
        "\n",
        "* maka output program adalah = ”produk susu ibu sehat ketemu di baris 7”\n",
        "\n",
        "* dimana baris merupakan nomor indeks dari list rak_produk tersebut\n"
      ],
      "metadata": {
        "id": "oVGt7GHMnBiI"
      }
    },
    {
      "cell_type": "code",
      "source": [
        "def search(arr,x):\n",
        "  for i in range(len(arr)):\n",
        "    if arr[i] == x:\n",
        "      return i\n",
        "  return 'Produk tidak ditemukan'\n",
        "\n",
        "rak_produk = ['susu moli', 'minyak bumoli', 'coco tok abah', 'mie goreng enak', 'minyak bumoli', 'mi rebus enak', 'coco tok abah', 'susu ibu sehat', 'susu moli', 'mie goreng enak']\n",
        "x = 'susu ibu sehat'\n",
        "baris = search(rak_produk,x)\n",
        "print(\"Produk \"+ x + \"ketemu di baris \" + str(baris))"
      ],
      "metadata": {
        "colab": {
          "base_uri": "https://localhost:8080/"
        },
        "id": "kAtgtMg2m1dJ",
        "outputId": "a41097da-802f-44da-d786-652a6044e5db"
      },
      "execution_count": 13,
      "outputs": [
        {
          "output_type": "stream",
          "name": "stdout",
          "text": [
            "Produk susu ibu sehatketemu di baris 7\n"
          ]
        }
      ]
    },
    {
      "cell_type": "markdown",
      "source": [
        "Seorang guru mengadakan pop kuis secara online, lalu beliau mencatat nama anak-anak yang menjawab kuis tersebut secara terurut, maka dari itu dapatlah nama anak-anak yang berhasil menjawab kuis tersebut:\n",
        "murid_menjawab = [\"agus\", \"agus\", \"basuki\", \"bella\", \"cindy\", \"cindy\", \"daisy\", \"daisy\", \"daisy\", \"eka\", \"eka\", \"eka\", \"eko\", \"lesti\", \"lesti\", \"lesti\", \"lesti\", \"yahya\", \"yahya\", \"zahra\"]\n",
        "* kemudian guru tersebut ingin mengetahui berapa kali murid dengan nama lesti menjawab pop kuis tersebut\n",
        "* maka program akan mengeluarkan output = “nama lesti menjawab sebanyak 4 kali”\n"
      ],
      "metadata": {
        "id": "h_55sBWqoiqc"
      }
    },
    {
      "cell_type": "code",
      "source": [
        "def countX(arr, X):\n",
        "  count = 0\n",
        "  for i in range(len(arr)):\n",
        "    if arr[i] == X:\n",
        "      count += 1\n",
        "  return count\n",
        "\n",
        "murid_menjawab = [\"agus\", \"agus\", \"basuki\", \"bella\", \"cindy\", \"cindy\", \"daisy\", \"daisy\", \"daisy\", \"eka\", \"eka\", \"eka\", \"eko\", \"lesti\", \"lesti\", \"lesti\", \"lesti\", \"yahya\", \"yahya\", \"zahra\"]\n",
        "murid = 'lesti'\n",
        "print(\"Nama \"+murid+\"menjawab sebanyak \"+str(countX(murid_menjawab,murid))+\" kali\")"
      ],
      "metadata": {
        "colab": {
          "base_uri": "https://localhost:8080/"
        },
        "id": "7hssMiMyoAQi",
        "outputId": "a6ae38ad-1923-4e81-8150-19e2fbba8e1a"
      },
      "execution_count": 18,
      "outputs": [
        {
          "output_type": "stream",
          "name": "stdout",
          "text": [
            "Nama lestimenjawab sebanyak 4 kali\n"
          ]
        }
      ]
    },
    {
      "cell_type": "code",
      "source": [],
      "metadata": {
        "id": "yNpFZyyxpM1y"
      },
      "execution_count": null,
      "outputs": []
    }
  ]
}