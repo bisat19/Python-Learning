{
  "nbformat": 4,
  "nbformat_minor": 0,
  "metadata": {
    "colab": {
      "provenance": [],
      "authorship_tag": "ABX9TyNFqhCFxexnrk9nr+8iejvj",
      "include_colab_link": true
    },
    "kernelspec": {
      "name": "python3",
      "display_name": "Python 3"
    },
    "language_info": {
      "name": "python"
    }
  },
  "cells": [
    {
      "cell_type": "markdown",
      "metadata": {
        "id": "view-in-github",
        "colab_type": "text"
      },
      "source": [
        "<a href=\"https://colab.research.google.com/github/bisat19/Python-Learning/blob/main/Train_2.ipynb\" target=\"_parent\"><img src=\"https://colab.research.google.com/assets/colab-badge.svg\" alt=\"Open In Colab\"/></a>"
      ]
    },
    {
      "cell_type": "markdown",
      "source": [
        "For example, if we run 9119 through the function, 811181 will come out, because 92 is 81 and 12 is 1. (81-1-1-81)\n",
        "\n",
        "Example #2: An input of 765 will/should return 493625 because 72 is 49, 62 is 36, and 52 is 25. (49-36-25)\n",
        "\n",
        "Note: The function accepts an integer and returns an integer."
      ],
      "metadata": {
        "id": "dGIWT0c72Ziy"
      }
    },
    {
      "cell_type": "code",
      "execution_count": 9,
      "metadata": {
        "colab": {
          "base_uri": "https://localhost:8080/"
        },
        "id": "8IRCLgVH0fpg",
        "outputId": "bf5af54d-0e9f-4374-c6d8-77fccb17f34e"
      },
      "outputs": [
        {
          "output_type": "execute_result",
          "data": {
            "text/plain": [
              "811181"
            ]
          },
          "metadata": {},
          "execution_count": 9
        }
      ],
      "source": [
        "def square_digits(num):\n",
        "  s = str(num)\n",
        "  a = [(int(x))**2 for x in s]\n",
        "  return int(''.join(map(str,a)))\n",
        "\n",
        "square_digits(9119)"
      ]
    },
    {
      "cell_type": "markdown",
      "source": [
        "Make a program that filters a list of strings and returns a list with only your friends name in it.\n",
        "\n",
        "If a name has exactly 4 letters in it, you can be sure that it has to be a friend of yours! Otherwise, you can be sure he's not...\n",
        "```\n",
        "Ex: Input = [\"Ryan\", \"Kieran\", \"Jason\", \"Yous\"], Output = [\"Ryan\", \"Yous\"]\n",
        "```\n",
        "i.e.\n",
        "```\n",
        "friend [\"Ryan\", \"Kieran\", \"Mark\"] `shouldBe` [\"Ryan\", \"Mark\"]\n",
        "```"
      ],
      "metadata": {
        "id": "eeVbsTSk3EIp"
      }
    },
    {
      "cell_type": "code",
      "source": [
        "def friend(x):\n",
        "  return [y for y in x if len(y) == 4]\n",
        "\n",
        "friend([\"Ryan\", \"Kieran\", \"Mark\"])"
      ],
      "metadata": {
        "colab": {
          "base_uri": "https://localhost:8080/"
        },
        "id": "9NIB-o421IrQ",
        "outputId": "712d1df0-e36f-4b83-c808-d32a6d29a592"
      },
      "execution_count": 12,
      "outputs": [
        {
          "output_type": "execute_result",
          "data": {
            "text/plain": [
              "['Ryan', 'Mark']"
            ]
          },
          "metadata": {},
          "execution_count": 12
        }
      ]
    },
    {
      "cell_type": "markdown",
      "source": [
        "Move the first letter of each word to the end of it, then add \"ay\" to the end of the word. Leave punctuation marks untouched.\n",
        "```\n",
        "Examples\n",
        "pig_it('Pig latin is cool') # igPay atinlay siay oolcay\n",
        "pig_it('Hello world !')     # elloHay orldway !\n",
        "```"
      ],
      "metadata": {
        "id": "MmmIp3p57HTP"
      }
    },
    {
      "cell_type": "code",
      "source": [
        "def pig_it(text):\n",
        "  return ' '.join(word[1:] + word[0] + 'ay' if word.isalpha() else word for word in text.split())\n",
        "\n",
        "pig_it('Pig latin is cool')"
      ],
      "metadata": {
        "colab": {
          "base_uri": "https://localhost:8080/",
          "height": 35
        },
        "id": "pPrrrrHr2zE1",
        "outputId": "caf75eb4-de17-49bc-fb1b-5689fe28aca6"
      },
      "execution_count": 27,
      "outputs": [
        {
          "output_type": "execute_result",
          "data": {
            "text/plain": [
              "'igPay atinlay siay oolcay'"
            ],
            "application/vnd.google.colaboratory.intrinsic+json": {
              "type": "string"
            }
          },
          "metadata": {},
          "execution_count": 27
        }
      ]
    },
    {
      "cell_type": "markdown",
      "source": [
        "Count the number of Duplicates\n",
        "Write a function that will return the count of distinct case-insensitive alphabetic characters and numeric digits that occur more than once in the input string. The input string can be assumed to contain only alphabets (both uppercase and lowercase) and numeric digits.\n",
        "```\n",
        "Example\n",
        "\"abcde\" -> 0 # no characters repeats more than once\n",
        "\"aabbcde\" -> 2 # 'a' and 'b'\n",
        "\"aabBcde\" -> 2 # 'a' occurs twice and 'b' twice (`b` and `B`)\n",
        "\"indivisibility\" -> 1 # 'i' occurs six times\n",
        "\"Indivisibilities\" -> 2 # 'i' occurs seven times and 's' occurs twice\n",
        "\"aA11\" -> 2 # 'a' and '1'\n",
        "\"ABBA\" -> 2 # 'A' and 'B' each occur twice\n",
        "```"
      ],
      "metadata": {
        "id": "J5RC-XWDDFCY"
      }
    },
    {
      "cell_type": "code",
      "source": [
        "#fix it\n",
        "def duplicate_count(text):\n",
        "  l = list(map(str,text.lower()))\n",
        "  maxcount = 0\n",
        "  count = 0\n",
        "  for i in range(len(l) - 1):\n",
        "    for j in range(len(l)-1):\n",
        "      if l[i] == l[j+1]:\n",
        "        count += 1\n",
        "duplicate_count('indivisibility')"
      ],
      "metadata": {
        "colab": {
          "base_uri": "https://localhost:8080/"
        },
        "id": "Ft9vWgET306e",
        "outputId": "1ca171b7-0ae4-47c3-8ad1-89ce43df23e9"
      },
      "execution_count": 62,
      "outputs": [
        {
          "output_type": "execute_result",
          "data": {
            "text/plain": [
              "74"
            ]
          },
          "metadata": {},
          "execution_count": 62
        }
      ]
    },
    {
      "cell_type": "code",
      "source": [
        "def duplicate_count(text):\n",
        "  charcount ={}\n",
        "  inputstr = text.lower()\n",
        "  for c in inputstr:\n",
        "    charcount[c] = charcount.get(c, 0) + 1\n",
        "  duplicatescount = sum(1 for count in charcount.values() if count > 1)\n",
        "  return duplicatescount\n",
        "\n",
        "duplicate_count('aA11')"
      ],
      "metadata": {
        "colab": {
          "base_uri": "https://localhost:8080/"
        },
        "id": "6L9JT5wM5GtC",
        "outputId": "7803a134-6f92-4dd4-abe7-89cdc2639ba8"
      },
      "execution_count": 75,
      "outputs": [
        {
          "output_type": "execute_result",
          "data": {
            "text/plain": [
              "2"
            ]
          },
          "metadata": {},
          "execution_count": 75
        }
      ]
    },
    {
      "cell_type": "markdown",
      "source": [
        "Given an array of integers, find the one that appears an odd number of times.\n",
        "\n",
        "There will always be only one integer that appears an odd number of times.\n",
        "```\n",
        "Examples\n",
        "[7] should return 7, because it occurs 1 time (which is odd).\n",
        "[0] should return 0, because it occurs 1 time (which is odd).\n",
        "[1,1,2] should return 2, because it occurs 1 time (which is odd).\n",
        "[0,1,0,1,0] should return 0, because it occurs 3 times (which is odd).\n",
        "[1,2,2,3,3,3,4,3,3,3,2,2,1] should return 4, because it appears 1 time (which is odd).\n",
        "```"
      ],
      "metadata": {
        "id": "BIoCO4K_KqHU"
      }
    },
    {
      "cell_type": "code",
      "source": [
        "def find_it(seq):\n",
        "    charcount = {}\n",
        "    for c in seq:\n",
        "        charcount[c] = charcount.get(c, 0) + 1\n",
        "    odd_chars = [char for char, count in charcount.items() if count % 2 == 1]\n",
        "    return odd_chars[0]\n",
        "\n",
        "result = find_it([1,2,2,3,3,3,4,3,3,3,2,2,1])\n",
        "print(result)"
      ],
      "metadata": {
        "colab": {
          "base_uri": "https://localhost:8080/"
        },
        "id": "fZvoZFGcBRFt",
        "outputId": "54ac7bc7-cc6d-4ff9-9122-f77eb43a5854"
      },
      "execution_count": 100,
      "outputs": [
        {
          "output_type": "stream",
          "name": "stdout",
          "text": [
            "4\n"
          ]
        }
      ]
    },
    {
      "cell_type": "code",
      "source": [],
      "metadata": {
        "id": "m_ven1g2EpmV"
      },
      "execution_count": null,
      "outputs": []
    }
  ]
}