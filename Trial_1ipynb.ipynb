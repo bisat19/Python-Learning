{
  "nbformat": 4,
  "nbformat_minor": 0,
  "metadata": {
    "colab": {
      "provenance": [],
      "authorship_tag": "ABX9TyPCURAvs0K+fF5OQirteyD4",
      "include_colab_link": true
    },
    "kernelspec": {
      "name": "python3",
      "display_name": "Python 3"
    },
    "language_info": {
      "name": "python"
    }
  },
  "cells": [
    {
      "cell_type": "markdown",
      "metadata": {
        "id": "view-in-github",
        "colab_type": "text"
      },
      "source": [
        "<a href=\"https://colab.research.google.com/github/bisat19/Python-Learning/blob/main/Trial_1ipynb.ipynb\" target=\"_parent\"><img src=\"https://colab.research.google.com/assets/colab-badge.svg\" alt=\"Open In Colab\"/></a>"
      ]
    },
    {
      "cell_type": "markdown",
      "source": [
        "sually when you buy something, you're asked whether your credit card number, phone number or answer to your most secret question is still correct. However, since someone could look over your shoulder, you don't want that shown on your screen. Instead, we mask it.\n",
        "\n",
        "Your task is to write a function maskify, which changes all but the last four characters into '#'.\n",
        "```\n",
        "Examples (input --> output):\n",
        "\"4556364607935616\" --> \"############5616\"\n",
        "     \"64607935616\" -->      \"#######5616\"\n",
        "               \"1\" -->                \"1\"\n",
        "                \"\" -->                 \"\"\n",
        "\n",
        "// \"What was the name of your first pet?\"\n",
        "\"Skippy\" --> \"##ippy\"\n",
        "\"Nananananananananananananananana Batman!\" --> \"####################################man!\"\n",
        "```"
      ],
      "metadata": {
        "id": "ZFwsMRgdrbvC"
      }
    },
    {
      "cell_type": "code",
      "execution_count": null,
      "metadata": {
        "colab": {
          "base_uri": "https://localhost:8080/",
          "height": 35
        },
        "id": "C9DKNvZrpIbi",
        "outputId": "fd2d39bf-1baa-4f58-e222-31bc25e6a1b6"
      },
      "outputs": [
        {
          "output_type": "execute_result",
          "data": {
            "text/plain": [
              "'##ippy'"
            ],
            "application/vnd.google.colaboratory.intrinsic+json": {
              "type": "string"
            }
          },
          "metadata": {},
          "execution_count": 12
        }
      ],
      "source": [
        "def maskify(cc):\n",
        "  l = list(cc)\n",
        "  for i in range(len(cc)-4):\n",
        "    l[i] = '#'\n",
        "  return ''.join(l)\n",
        "\n",
        "maskify(\"skippy\")"
      ]
    },
    {
      "cell_type": "markdown",
      "source": [
        "If we list all the natural numbers below 10 that are multiples of 3 or 5, we get 3, 5, 6 and 9. The sum of these multiples is 23.\n",
        "\n",
        "Finish the solution so that it returns the sum of all the multiples of 3 or 5 below the number passed in.\n",
        "\n",
        "Additionally, if the number is negative, return 0.\n",
        "\n",
        "Note: If the number is a multiple of both 3 and 5, only count it once."
      ],
      "metadata": {
        "id": "0bJyHDAvtz5K"
      }
    },
    {
      "cell_type": "code",
      "source": [
        "def solution(number):\n",
        "  sum = 0\n",
        "  if number < 0:\n",
        "    return sum\n",
        "  for i in range(number):\n",
        "    if i%5 == 0 and i%3 == 0:\n",
        "      sum += i\n",
        "    elif i%5 == 0:\n",
        "      sum += i\n",
        "    elif i%3 == 0:\n",
        "      sum += i\n",
        "  return sum\n",
        "\n",
        "solution(15)"
      ],
      "metadata": {
        "colab": {
          "base_uri": "https://localhost:8080/"
        },
        "id": "1jYkPIcMpaz7",
        "outputId": "f2e482c1-801f-43eb-99e0-0550a77b7235"
      },
      "execution_count": null,
      "outputs": [
        {
          "output_type": "execute_result",
          "data": {
            "text/plain": [
              "45"
            ]
          },
          "metadata": {},
          "execution_count": 18
        }
      ]
    },
    {
      "cell_type": "markdown",
      "source": [
        "Complete the solution so that it returns true if the first argument(string) passed in ends with the 2nd argument (also a string).\n",
        "```\n",
        "Examples:\n",
        "\n",
        "solution('abc', 'bc') # returns true\n",
        "solution('abc', 'd') # returns false\n",
        "```\n",
        "\n"
      ],
      "metadata": {
        "id": "-vlPv7Cft2Y3"
      }
    },
    {
      "cell_type": "code",
      "source": [
        "def solution(text, ending):\n",
        "  return text.endswith(ending)\n",
        "\n",
        "print(solution(\"abc\",\"abc\"))\n"
      ],
      "metadata": {
        "colab": {
          "base_uri": "https://localhost:8080/"
        },
        "id": "a4A0sAv3qRNN",
        "outputId": "89832b38-9c36-4896-880b-e238d85576f5"
      },
      "execution_count": null,
      "outputs": [
        {
          "output_type": "stream",
          "name": "stdout",
          "text": [
            "True\n"
          ]
        }
      ]
    },
    {
      "cell_type": "markdown",
      "source": [
        "Your goal in this kata is to implement a difference function, which subtracts one list from another and returns the result.\n",
        "\n",
        "It should remove all values from list a, which are present in list b keeping their order.\n",
        "```\n",
        "array_diff([1,2],[1]) == [2]\n",
        "```\n",
        "If a value is present in b, all of its occurrences must be removed from the other:\n",
        "```\n",
        "array_diff([1,2,2,2,3],[2]) == [1,3]\n",
        "```"
      ],
      "metadata": {
        "id": "M_e-kTQO2uMg"
      }
    },
    {
      "cell_type": "code",
      "source": [
        "def array_diff(a,b):\n",
        "  return [x for x in a if x not in b]\n",
        "\n",
        "print(array_diff([1,2,2], [1]))"
      ],
      "metadata": {
        "colab": {
          "base_uri": "https://localhost:8080/"
        },
        "id": "YYukIUjS09ST",
        "outputId": "fce0f29c-4612-47fc-f7e6-aae20d2783df"
      },
      "execution_count": null,
      "outputs": [
        {
          "output_type": "stream",
          "name": "stdout",
          "text": [
            "[2, 2]\n"
          ]
        }
      ]
    },
    {
      "cell_type": "markdown",
      "source": [
        "You are given two strings word1 and word2. Merge the strings by adding letters in alternating order, starting with word1. If a string is longer than the other, append the additional letters onto the end of the merged string.\n",
        "\n",
        "Return the merged string.\n",
        "\n",
        "\n",
        "\n",
        "Example 1:\n",
        "```\n",
        "Input: word1 = \"abc\", word2 = \"pqr\"\n",
        "Output: \"apbqcr\"\n",
        "Explanation: The merged string will be merged as so:\n",
        "word1:  a   b   c\n",
        "word2:    p   q   r\n",
        "merged: a p b q c r\n",
        "```\n",
        "Example 2:\n",
        "```\n",
        "Input: word1 = \"ab\", word2 = \"pqrs\"\n",
        "Output: \"apbqrs\"\n",
        "Explanation: Notice that as word2 is longer, \"rs\" is appended to the end.\n",
        "word1:  a   b\n",
        "word2:    p   q   r   s\n",
        "merged: a p b q   r   s\n",
        "```\n",
        "Example 3:\n",
        "```\n",
        "Input: word1 = \"abcd\", word2 = \"pq\"\n",
        "Output: \"apbqcd\"\n",
        "Explanation: Notice that as word1 is longer, \"cd\" is appended to the end.\n",
        "word1:  a   b   c   d\n",
        "word2:    p   q\n",
        "merged: a p b q c   d\n",
        "```\n",
        "\n",
        "Constraints:\n",
        "\n",
        "* 1 <= word1.length, word2.length <= 100\n",
        "* word1 and word2 consist of lowercase English letters."
      ],
      "metadata": {
        "id": "nEF0f_pt7n0v"
      }
    },
    {
      "cell_type": "code",
      "source": [
        "class Solution:\n",
        "    def mergeAlternately(self, word1: str, word2: str) -> str:\n",
        "        merged = []\n",
        "        i, j = 0, 0\n",
        "        while i < len(word1) and j < len(word2):\n",
        "            merged.append(word1[i])\n",
        "            merged.append(word2[j])\n",
        "            i +=1\n",
        "            j +=1\n",
        "        while i < len(word1):\n",
        "            merged.append(word1[i])\n",
        "            i+= 1\n",
        "        while j < len(word2):\n",
        "            merged.append(word2[j])\n",
        "            j+= 1\n",
        "        return ''.join(merged)\n"
      ],
      "metadata": {
        "id": "2K8np7vw72aK"
      },
      "execution_count": null,
      "outputs": []
    },
    {
      "cell_type": "code",
      "source": [
        "class Solution:\n",
        "    def mergeAlternately(self, word1: str, word2: str) -> str:\n",
        "        index1 = 0\n",
        "        index2 = 0\n",
        "        ans = \"\"\n",
        "        count = 0\n",
        "        while index1 < len(word1) and index2 < len(word2):\n",
        "            if count % 2 == 0:\n",
        "                ans += word1[index1]\n",
        "                index1 += 1\n",
        "            else:\n",
        "                ans += word2[index2]\n",
        "                index2 += 1\n",
        "            count += 1\n",
        "        if index1 >= len(word1):\n",
        "            ans += word2[index2:]\n",
        "        else:\n",
        "            ans += word1[index1:]\n",
        "        return ans"
      ],
      "metadata": {
        "id": "IbrcPFWw19he"
      },
      "execution_count": null,
      "outputs": []
    },
    {
      "cell_type": "markdown",
      "source": [
        "For two strings s and t, we say \"t divides s\" if and only if s = t + t + t + ... + t + t (i.e., t is concatenated with itself one or more times).\n",
        "\n",
        "Given two strings str1 and str2, return the largest string x such that x divides both str1 and str2.\n",
        "\n",
        "\n",
        "\n",
        "Example 1:\n",
        "```\n",
        "Input: str1 = \"ABCABC\", str2 = \"ABC\"\n",
        "Output: \"ABC\"\n",
        "```\n",
        "Example 2:\n",
        "```\n",
        "Input: str1 = \"ABABAB\", str2 = \"ABAB\"\n",
        "Output: \"AB\"\n",
        "```\n",
        "Example 3:\n",
        "```\n",
        "Input: str1 = \"LEET\", str2 = \"CODE\"\n",
        "Output: \"\"\n",
        "```\n",
        "\n",
        "Constraints:\n",
        "\n",
        "* 1 <= str1.length, str2.length <= 1000\n",
        "* str1 and str2 consist of English uppercase letters."
      ],
      "metadata": {
        "id": "zDXm7YQr__h6"
      }
    },
    {
      "cell_type": "code",
      "source": [
        "class Solution:\n",
        "    def gcdOfStrings(self, str1: str, str2: str) -> str:\n",
        "        len1,len2 = len(str1),len(str2)\n",
        "\n",
        "        def isGCD(l):\n",
        "            if len1 % l or len2 % l:\n",
        "                return False\n",
        "            n1 , n2 = len1//l , len2//l\n",
        "            return str1[:l] * n1 == str1 and str1[:l] * n2 == str2\n",
        "        for l in range(min(len1,len2),0,-1):\n",
        "            if isGCD(l):\n",
        "                return str1[:l]\n",
        "        return \"\""
      ],
      "metadata": {
        "colab": {
          "base_uri": "https://localhost:8080/",
          "height": 35
        },
        "id": "kiIg7qSX9TZv",
        "outputId": "f5f91480-8984-490b-d156-924b7c1cb5dc"
      },
      "execution_count": 6,
      "outputs": [
        {
          "output_type": "execute_result",
          "data": {
            "text/plain": [
              "'BA'"
            ],
            "application/vnd.google.colaboratory.intrinsic+json": {
              "type": "string"
            }
          },
          "metadata": {},
          "execution_count": 6
        }
      ]
    },
    {
      "cell_type": "code",
      "source": [],
      "metadata": {
        "id": "O_OEj-s89kxp"
      },
      "execution_count": null,
      "outputs": []
    }
  ]
}